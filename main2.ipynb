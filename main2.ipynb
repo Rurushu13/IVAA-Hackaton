{
 "cells": [
  {
   "cell_type": "markdown",
   "metadata": {},
   "source": [
    "Hackaton"
   ]
  },
  {
   "attachments": {},
   "cell_type": "markdown",
   "metadata": {},
   "source": [
    "# Index\n",
    "1. Reading the data\n",
    "2. Exploratory Data Analysis\n",
    "    1. Target Variable Distrubution (check if its inbalanced)\n",
    "    2. Distribution of features\n",
    "    3. Missing values of features\n",
    "    4. Correlation of features\n",
    "    5. Description of the data (df.describe())\n",
    "    6. Outlier detection (remove nonsensical data / boxplots) / (create a function to remove outliers)\n",
    "    7. Check distinct values in features / check ordinal values\n",
    "3. Feature Engineering\n",
    "    1. Missing value imputation (mode, median, mean, k-NN, SMOTE etc.)\n",
    "    2. Create new features using arithmetical transformations of existing features.\n",
    "    3. PCA \n",
    "    4. Try few models to decide feature importances to reduce features. (target shuffling)\n",
    "    5. Add new features using outside data sources.\n",
    "    6. Train, Test, Validation split (use validation for hyperparameter tuning)\n",
    "4. Modeling (find important features using models, then return to feature engineering)\n",
    "    1. Linear Regression (remove multicolonarity, then check coefficient of features to determine their importance) (correlation matrix 85%>)\n",
    "    2. Decision Tree\n",
    "    3. Random Forest (entropy)\n",
    "    4. XGBoost\n",
    "    5. LightGBM\n",
    "    6. Neural Network\n",
    "    7. Ensemble Learning\n",
    "5. Hyperparameter Tuning\n",
    "    1. Grid Search\n",
    "    2. Bayesean Search\n",
    "\n",
    "\n",
    "    "
   ]
  },
  {
   "attachments": {},
   "cell_type": "markdown",
   "metadata": {},
   "source": [
    "# Dependencies"
   ]
  },
  {
   "cell_type": "code",
   "execution_count": 15,
   "metadata": {
    "vscode": {
     "languageId": "python"
    }
   },
   "outputs": [],
   "source": [
    "import pandas as pd\n",
    "import numpy as np\n",
    "from matplotlib import pyplot as plt\n",
    "\n",
    "from sklearn import linear_model as lin \n",
    "from sklearn import preprocessing as pre\n",
    "from sklearn import metrics as met\n",
    "from sklearn import model_selection as mod\n",
    "from sklearn import pipeline as pip\n",
    "from sklearn import datasets as dat\n",
    "from sklearn import tree\n",
    "from sklearn import preprocessing as pre\n",
    "from sklearn import ensemble as ens\n",
    "from sklearn import svm\n",
    "from sklearn import decomposition as dec\n",
    "from sklearn import manifold as man\n",
    "from sklearn import impute as imp\n",
    "from sklearn import compose as com\n",
    "\n",
    "from imblearn import pipeline as imbPip # imblearn pipeline\n",
    "from imblearn import under_sampling as und\n",
    "from imblearn import over_sampling as ove\n",
    "\n",
    "import xgboost as xgb\n",
    "\n",
    "import seaborn as sns\n",
    "\n",
    "np.set_printoptions(suppress=True) \n",
    "\n",
    "import warnings\n",
    "warnings.filterwarnings(\"ignore\")"
   ]
  },
  {
   "attachments": {},
   "cell_type": "markdown",
   "metadata": {},
   "source": [
    "# Functions"
   ]
  },
  {
   "cell_type": "code",
   "execution_count": 3,
   "metadata": {
    "vscode": {
     "languageId": "python"
    }
   },
   "outputs": [],
   "source": [
    "def plotLearningCurve(est, X_train, y_train, X_test, y_test, n_iter=10, minY=0,maxY=1):\n",
    "    x_values = [] #number of training samples\n",
    "    y_values_train = []\n",
    "    y_values_test = []\n",
    "\n",
    "    for i in np.linspace(10,len(X_train),n_iter): #increase training sizes by every iter\n",
    "        i=int(i)\n",
    "        #select a subset of training data\n",
    "        X_train_temp = X_train[:i]\n",
    "        y_train_temp = y_train[:i]\n",
    "        #create the model\n",
    "        est.fit(X_train_temp, y_train_temp)\n",
    "        #evaluate train set\n",
    "        y_pred_train=est.predict(X_train_temp)\n",
    "        train_score = met.mean_squared_error(y_train_temp,y_pred_train,squared=False)\n",
    "        #evaluate test set\n",
    "        y_pred_test=est.predict(X_test)\n",
    "        test_score = met.mean_squared_error(y_test,y_pred_test,squared=False)\n",
    "        #populate lists\n",
    "        y_values_train.append(train_score)\n",
    "        y_values_test.append(test_score)\n",
    "        x_values.append(i)\n",
    "    plt.figure(figsize=(10,6))\n",
    "    plt.plot(x_values,y_values_train,label=\"Train\")\n",
    "    plt.plot(x_values,y_values_test, label=\"Test\")\n",
    "    plt.legend()\n",
    "    plt.ylabel(\"RMSE\")\n",
    "    plt.xlabel(\"# of training samples\")\n",
    "    plt.grid(True)\n",
    "    plt.ylim(minY,maxY)\n",
    "    plt.show()"
   ]
  },
  {
   "cell_type": "code",
   "execution_count": 4,
   "metadata": {
    "vscode": {
     "languageId": "python"
    }
   },
   "outputs": [],
   "source": [
    "def plotDecisionBoundaries(clf, X, y, n_classes=2):\n",
    "  # Parameters\n",
    "  plot_colors = \"rb\"\n",
    "  plot_step = 0.02\n",
    "\n",
    "  X2 = X.values\n",
    "  y_now = y.values\n",
    "\n",
    "\n",
    "  for pairidx, pair in enumerate([[0, 1], [0, 2], [0, 3],\n",
    "                                  [1, 2], [1, 3], [2, 3]]):\n",
    "      # We only take the two corresponding features\n",
    "      X_now = X2[:, pair]\n",
    "      \n",
    "      \n",
    "\n",
    "      # Train\n",
    "      clf.fit(X_now, y_now)\n",
    "\n",
    "      # Plot the decision boundary\n",
    "      plt.subplot(2, 3, pairidx + 1)\n",
    "\n",
    "      x_min, x_max = X_now[:, 0].min() - 1, X_now[:, 0].max() + 1\n",
    "      y_min, y_max = X_now[:, 1].min() - 1, X_now[:, 1].max() + 1\n",
    "      xx, yy = np.meshgrid(np.arange(x_min, x_max, plot_step),\n",
    "                          np.arange(y_min, y_max, plot_step))\n",
    "      plt.tight_layout(h_pad=0.5, w_pad=0.5, pad=2.5)\n",
    "\n",
    "      Z = clf.predict(np.c_[xx.ravel(), yy.ravel()])\n",
    "      Z = Z.reshape(xx.shape)\n",
    "      cs = plt.contourf(xx, yy, Z, cmap=plt.cm.RdYlBu)\n",
    "\n",
    "      \n",
    "\n",
    "      # Plot the training points\n",
    "      for i, color in zip(range(n_classes), plot_colors):\n",
    "          idx = np.where(y_now == i)\n",
    "          \n",
    "          plt.scatter(X_now[idx, 0], X_now[idx, 1], c=color,\n",
    "                      cmap=plt.cm.RdYlBu, edgecolor='black', s=15)\n",
    "\n",
    "  plt.suptitle(\"Decision surface of a decision tree using paired features\")\n",
    "  plt.legend(loc='lower right', borderpad=0, handletextpad=0)\n",
    "  plt.axis(\"tight\")\n",
    "  plt.show()"
   ]
  },
  {
   "cell_type": "code",
   "execution_count": 5,
   "metadata": {
    "vscode": {
     "languageId": "python"
    }
   },
   "outputs": [],
   "source": [
    "def estimate_roc_curve(X_train, y_train_binary, estimators=[[tree.DecisionTreeClassifier(random_state=42),\n",
    "                lin.SGDClassifier(random_state=42),\n",
    "                ens.RandomForestClassifier(random_state=42)]]):\n",
    "    for est in estimators:\n",
    "        pipe = pip.Pipeline([\n",
    "            (\"scaler\", pre.StandardScaler()),\n",
    "            (\"est\",est)\n",
    "        ])\n",
    "        if hasattr(est,\"predict_proba\"):\n",
    "            myMethod = \"predict_proba\" #returns list of lists\n",
    "        else:\n",
    "            myMethod = \"decision_function\" \n",
    "\n",
    "        y_scores = mod.cross_val_predict(pipe, X_train, y_train_binary,\n",
    "                                        cv=5, method=myMethod)\n",
    "        if myMethod == \"predict_proba\":\n",
    "            y_scores = y_scores[:, 1] #probabilities for true class\n",
    "        fpr, tpr, thresholds = met.roc_curve(y_train_binary,y_scores)\n",
    "        auc_score = met.roc_auc_score(y_train_binary,y_scores)\n",
    "        print(est.__class__.__name__,auc_score)\n",
    "        plt.plot(fpr, tpr, label=est.__class__.__name__)\n",
    "    plt.title(\"ROC Curve\")\n",
    "    plt.xlabel(\"fpr\")\n",
    "    plt.ylabel(\"tpr\")\n",
    "    plt.legend()\n",
    "    plt.show()"
   ]
  },
  {
   "cell_type": "code",
   "execution_count": 6,
   "metadata": {
    "vscode": {
     "languageId": "python"
    }
   },
   "outputs": [],
   "source": [
    "def precision_recall_curve(est, X_train, y_train_binary):\n",
    "    \n",
    "    pipe = pip.Pipeline([(\"scaler\", pre.StandardScaler())\n",
    "                         ,(\"est\",est)])\n",
    "    \n",
    "    if hasattr(est,\"predict_proba\"):\n",
    "        myMethod = \"predict_proba\" \n",
    "    else:\n",
    "        myMethod = \"decision_function\" \n",
    "    \n",
    "    y_scores = mod.cross_val_predict(pipe,X_train,y_train_binary,cv=3, method=myMethod)\n",
    "    \n",
    "    precision, recall, thresholds = met.precision_recall_curve(y_train_binary, y_scores)\n",
    "    \n",
    "    plt.figure(figsize=(10,6))\n",
    "    plt.plot(thresholds,precision[:-1], label = \"precision\")\n",
    "    plt.plot(thresholds,recall[:-1], label = \"recall\")\n",
    "    plt.legend()\n",
    "    plt.xlabel(\"Thresholds\")\n",
    "    plt.ylabel(\"Precision / Recall\")\n",
    "    plt.show()\n",
    "    \n",
    "    fpr, tpr, thresholds = met.roc_curve(y_train_binary,y_scores)\n",
    "    plt.plot(fpr,tpr)\n",
    "    plt.xlabel(\"fpr\")\n",
    "    plt.ylabel(\"tpr\")\n",
    "    plt.show()\n",
    "    "
   ]
  },
  {
   "attachments": {},
   "cell_type": "markdown",
   "metadata": {},
   "source": [
    "# Main"
   ]
  },
  {
   "attachments": {},
   "cell_type": "markdown",
   "metadata": {},
   "source": [
    "## 1. Reading the Data"
   ]
  },
  {
   "cell_type": "code",
   "execution_count": 10,
   "metadata": {
    "vscode": {
     "languageId": "python"
    }
   },
   "outputs": [],
   "source": [
    "Data_Path = \"data/train.csv\" #replace with data path\n",
    "Target_Col = \"RainTomorrow\""
   ]
  },
  {
   "cell_type": "code",
   "execution_count": 11,
   "metadata": {
    "vscode": {
     "languageId": "python"
    }
   },
   "outputs": [
    {
     "data": {
      "text/html": [
       "<div>\n",
       "<style scoped>\n",
       "    .dataframe tbody tr th:only-of-type {\n",
       "        vertical-align: middle;\n",
       "    }\n",
       "\n",
       "    .dataframe tbody tr th {\n",
       "        vertical-align: top;\n",
       "    }\n",
       "\n",
       "    .dataframe thead th {\n",
       "        text-align: right;\n",
       "    }\n",
       "</style>\n",
       "<table border=\"1\" class=\"dataframe\">\n",
       "  <thead>\n",
       "    <tr style=\"text-align: right;\">\n",
       "      <th></th>\n",
       "      <th>ID</th>\n",
       "      <th>Date</th>\n",
       "      <th>Location</th>\n",
       "      <th>MinTemp</th>\n",
       "      <th>MaxTemp</th>\n",
       "      <th>Rainfall</th>\n",
       "      <th>Evaporation</th>\n",
       "      <th>Sunshine</th>\n",
       "      <th>WindGustDir</th>\n",
       "      <th>WindGustSpeed</th>\n",
       "      <th>...</th>\n",
       "      <th>Humidity9am</th>\n",
       "      <th>Humidity3pm</th>\n",
       "      <th>Pressure9am</th>\n",
       "      <th>Pressure3pm</th>\n",
       "      <th>Cloud9am</th>\n",
       "      <th>Cloud3pm</th>\n",
       "      <th>Temp9am</th>\n",
       "      <th>Temp3pm</th>\n",
       "      <th>RainToday</th>\n",
       "      <th>RainTomorrow</th>\n",
       "    </tr>\n",
       "  </thead>\n",
       "  <tbody>\n",
       "    <tr>\n",
       "      <th>0</th>\n",
       "      <td>0</td>\n",
       "      <td>2013-08-30</td>\n",
       "      <td>Perth</td>\n",
       "      <td>13.4</td>\n",
       "      <td>20.2</td>\n",
       "      <td>5.2</td>\n",
       "      <td>1.4</td>\n",
       "      <td>5.9</td>\n",
       "      <td>WNW</td>\n",
       "      <td>50.0</td>\n",
       "      <td>...</td>\n",
       "      <td>67.0</td>\n",
       "      <td>73.0</td>\n",
       "      <td>1008.5</td>\n",
       "      <td>1006.7</td>\n",
       "      <td>4.0</td>\n",
       "      <td>6.0</td>\n",
       "      <td>18.8</td>\n",
       "      <td>18.7</td>\n",
       "      <td>Yes</td>\n",
       "      <td>1</td>\n",
       "    </tr>\n",
       "    <tr>\n",
       "      <th>1</th>\n",
       "      <td>1</td>\n",
       "      <td>2010-12-24</td>\n",
       "      <td>Brisbane</td>\n",
       "      <td>21.8</td>\n",
       "      <td>27.7</td>\n",
       "      <td>0.2</td>\n",
       "      <td>3.2</td>\n",
       "      <td>0.2</td>\n",
       "      <td>SSE</td>\n",
       "      <td>41.0</td>\n",
       "      <td>...</td>\n",
       "      <td>71.0</td>\n",
       "      <td>81.0</td>\n",
       "      <td>1016.9</td>\n",
       "      <td>1015.3</td>\n",
       "      <td>7.0</td>\n",
       "      <td>8.0</td>\n",
       "      <td>26.8</td>\n",
       "      <td>25.2</td>\n",
       "      <td>No</td>\n",
       "      <td>1</td>\n",
       "    </tr>\n",
       "    <tr>\n",
       "      <th>2</th>\n",
       "      <td>2</td>\n",
       "      <td>2008-02-13</td>\n",
       "      <td>Sydney</td>\n",
       "      <td>18.4</td>\n",
       "      <td>22.8</td>\n",
       "      <td>14.4</td>\n",
       "      <td>7.0</td>\n",
       "      <td>3.3</td>\n",
       "      <td>NaN</td>\n",
       "      <td>NaN</td>\n",
       "      <td>...</td>\n",
       "      <td>87.0</td>\n",
       "      <td>70.0</td>\n",
       "      <td>1009.2</td>\n",
       "      <td>1011.7</td>\n",
       "      <td>8.0</td>\n",
       "      <td>7.0</td>\n",
       "      <td>20.9</td>\n",
       "      <td>21.0</td>\n",
       "      <td>Yes</td>\n",
       "      <td>1</td>\n",
       "    </tr>\n",
       "    <tr>\n",
       "      <th>3</th>\n",
       "      <td>3</td>\n",
       "      <td>2014-10-07</td>\n",
       "      <td>Sydney</td>\n",
       "      <td>19.7</td>\n",
       "      <td>27.9</td>\n",
       "      <td>0.0</td>\n",
       "      <td>8.0</td>\n",
       "      <td>7.7</td>\n",
       "      <td>NW</td>\n",
       "      <td>61.0</td>\n",
       "      <td>...</td>\n",
       "      <td>44.0</td>\n",
       "      <td>30.0</td>\n",
       "      <td>1007.8</td>\n",
       "      <td>1008.3</td>\n",
       "      <td>7.0</td>\n",
       "      <td>1.0</td>\n",
       "      <td>24.1</td>\n",
       "      <td>25.2</td>\n",
       "      <td>No</td>\n",
       "      <td>1</td>\n",
       "    </tr>\n",
       "    <tr>\n",
       "      <th>4</th>\n",
       "      <td>4</td>\n",
       "      <td>2013-09-08</td>\n",
       "      <td>Bendigo</td>\n",
       "      <td>2.7</td>\n",
       "      <td>18.4</td>\n",
       "      <td>0.2</td>\n",
       "      <td>3.1</td>\n",
       "      <td>NaN</td>\n",
       "      <td>NW</td>\n",
       "      <td>20.0</td>\n",
       "      <td>...</td>\n",
       "      <td>71.0</td>\n",
       "      <td>56.0</td>\n",
       "      <td>1027.8</td>\n",
       "      <td>1024.2</td>\n",
       "      <td>NaN</td>\n",
       "      <td>1.0</td>\n",
       "      <td>12.0</td>\n",
       "      <td>17.8</td>\n",
       "      <td>No</td>\n",
       "      <td>0</td>\n",
       "    </tr>\n",
       "  </tbody>\n",
       "</table>\n",
       "<p>5 rows × 24 columns</p>\n",
       "</div>"
      ],
      "text/plain": [
       "   ID        Date  Location  MinTemp  MaxTemp  Rainfall  Evaporation  \\\n",
       "0   0  2013-08-30     Perth     13.4     20.2       5.2          1.4   \n",
       "1   1  2010-12-24  Brisbane     21.8     27.7       0.2          3.2   \n",
       "2   2  2008-02-13    Sydney     18.4     22.8      14.4          7.0   \n",
       "3   3  2014-10-07    Sydney     19.7     27.9       0.0          8.0   \n",
       "4   4  2013-09-08   Bendigo      2.7     18.4       0.2          3.1   \n",
       "\n",
       "   Sunshine WindGustDir  WindGustSpeed  ... Humidity9am Humidity3pm  \\\n",
       "0       5.9         WNW           50.0  ...        67.0        73.0   \n",
       "1       0.2         SSE           41.0  ...        71.0        81.0   \n",
       "2       3.3         NaN            NaN  ...        87.0        70.0   \n",
       "3       7.7          NW           61.0  ...        44.0        30.0   \n",
       "4       NaN          NW           20.0  ...        71.0        56.0   \n",
       "\n",
       "   Pressure9am  Pressure3pm  Cloud9am  Cloud3pm  Temp9am  Temp3pm  RainToday  \\\n",
       "0       1008.5       1006.7       4.0       6.0     18.8     18.7        Yes   \n",
       "1       1016.9       1015.3       7.0       8.0     26.8     25.2         No   \n",
       "2       1009.2       1011.7       8.0       7.0     20.9     21.0        Yes   \n",
       "3       1007.8       1008.3       7.0       1.0     24.1     25.2         No   \n",
       "4       1027.8       1024.2       NaN       1.0     12.0     17.8         No   \n",
       "\n",
       "   RainTomorrow  \n",
       "0             1  \n",
       "1             1  \n",
       "2             1  \n",
       "3             1  \n",
       "4             0  \n",
       "\n",
       "[5 rows x 24 columns]"
      ]
     },
     "execution_count": 11,
     "metadata": {},
     "output_type": "execute_result"
    }
   ],
   "source": [
    "df = pd.read_csv(Data_Path)\n",
    "df.head()"
   ]
  },
  {
   "cell_type": "code",
   "execution_count": 21,
   "metadata": {
    "vscode": {
     "languageId": "python"
    }
   },
   "outputs": [],
   "source": [
    "num_columns = list(df.drop(Target_Col,axis=1).select_dtypes(exclude=\"object\").columns)\n",
    "cat_columns = list(df.select_dtypes(include=\"object\").columns)"
   ]
  },
  {
   "attachments": {},
   "cell_type": "markdown",
   "metadata": {},
   "source": [
    "## 2. Exploratory Data Analysis "
   ]
  },
  {
   "attachments": {},
   "cell_type": "markdown",
   "metadata": {},
   "source": [
    "### 1. Target Variable Distribution"
   ]
  },
  {
   "cell_type": "code",
   "execution_count": 20,
   "metadata": {
    "vscode": {
     "languageId": "python"
    }
   },
   "outputs": [
    {
     "data": {
      "text/plain": [
       "0    0.775173\n",
       "1    0.224827\n",
       "Name: RainTomorrow, dtype: float64"
      ]
     },
     "execution_count": 20,
     "metadata": {},
     "output_type": "execute_result"
    }
   ],
   "source": [
    "df[Target_Col].value_counts(normalize=True, dropna=False)"
   ]
  },
  {
   "attachments": {},
   "cell_type": "markdown",
   "metadata": {},
   "source": [
    "## 2. Distribution of Features"
   ]
  },
  {
   "cell_type": "code",
   "execution_count": 23,
   "metadata": {
    "vscode": {
     "languageId": "python"
    }
   },
   "outputs": [
    {
     "data": {
      "text/plain": [
       "array([[<AxesSubplot:title={'center':'ID'}>,\n",
       "        <AxesSubplot:title={'center':'MinTemp'}>,\n",
       "        <AxesSubplot:title={'center':'MaxTemp'}>,\n",
       "        <AxesSubplot:title={'center':'Rainfall'}>],\n",
       "       [<AxesSubplot:title={'center':'Evaporation'}>,\n",
       "        <AxesSubplot:title={'center':'Sunshine'}>,\n",
       "        <AxesSubplot:title={'center':'WindGustSpeed'}>,\n",
       "        <AxesSubplot:title={'center':'WindSpeed9am'}>],\n",
       "       [<AxesSubplot:title={'center':'WindSpeed3pm'}>,\n",
       "        <AxesSubplot:title={'center':'Humidity9am'}>,\n",
       "        <AxesSubplot:title={'center':'Humidity3pm'}>,\n",
       "        <AxesSubplot:title={'center':'Pressure9am'}>],\n",
       "       [<AxesSubplot:title={'center':'Pressure3pm'}>,\n",
       "        <AxesSubplot:title={'center':'Cloud9am'}>,\n",
       "        <AxesSubplot:title={'center':'Cloud3pm'}>,\n",
       "        <AxesSubplot:title={'center':'Temp9am'}>],\n",
       "       [<AxesSubplot:title={'center':'Temp3pm'}>,\n",
       "        <AxesSubplot:title={'center':'RainTomorrow'}>, <AxesSubplot:>,\n",
       "        <AxesSubplot:>]], dtype=object)"
      ]
     },
     "execution_count": 23,
     "metadata": {},
     "output_type": "execute_result"
    },
    {
     "data": {
      "text/plain": [
       "<Figure size 1500x1100 with 0 Axes>"
      ]
     },
     "metadata": {},
     "output_type": "display_data"
    },
    {
     "data": {
      "image/png": "[encoded data removed]",
      "text/plain": [
       "<Figure size 640x480 with 20 Axes>"
      ]
     },
     "metadata": {},
     "output_type": "display_data"
    }
   ],
   "source": [
    "plt.figure(figsize=(15,11))\n",
    "df.hist()"
   ]
  },
  {
   "cell_type": "code",
   "execution_count": null,
   "metadata": {
    "vscode": {
     "languageId": "python"
    }
   },
   "outputs": [],
   "source": []
  }
 ],
 "metadata": {
  "kernelspec": {
   "display_name": "Python 3 (ipykernel)",
   "language": "python",
   "name": "python3"
  },
  "orig_nbformat": 4,
  "vscode": {
   "interpreter": {
    "hash": "916dbcbb3f70747c44a77c7bcd40155683ae19c65e1c03b4aa3499c5328201f1"
   }
  }
 },
 "nbformat": 4,
 "nbformat_minor": 2
}
