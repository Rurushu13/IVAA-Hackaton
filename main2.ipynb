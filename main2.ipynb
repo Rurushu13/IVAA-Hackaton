{
 "cells": [
  {
   "cell_type": "markdown",
   "metadata": {},
   "source": [
    "Hackaton"
   ]
  },
  {
   "attachments": {},
   "cell_type": "markdown",
   "metadata": {},
   "source": [
    "# Index\n",
    "1. Reading the data\n",
    "2. Exploratory Data Analysis\n",
    "    1. Target Variable Distrubution (check if its inbalanced)\n",
    "    2. Distribution of features\n",
    "    3. Missing values of features\n",
    "    4. Correlation of features\n",
    "    5. Description of the data (df.describe())\n",
    "    6. Outlier detection (remove nonsensical data / boxplots) / (create a function to remove outliers)\n",
    "    7. Check distinct values in features / check ordinal values\n",
    "3. Feature Engineering\n",
    "    1. Missing value imputation (mode, median, mean, k-NN, SMOTE etc.)\n",
    "    2. Create new features using arithmetical transformations of existing features.\n",
    "    3. PCA \n",
    "    4. Try few models to decide feature importances to reduce features. (target shuffling)\n",
    "    5. Add new features using outside data sources.\n",
    "    6. Train, Test, Validation split (use validation for hyperparameter tuning)\n",
    "4. Modeling (find important features using models, then return to feature engineering)\n",
    "    1. Linear Regression (remove multicolonarity, then check coefficient of features to determine their importance) (correlation matrix 85%>)\n",
    "    2. Decision Tree\n",
    "    3. Random Forest (entropy)\n",
    "    4. XGBoost\n",
    "    5. LightGBM\n",
    "    6. Neural Network\n",
    "    7. Ensemble Learning\n",
    "5. Hyperparameter Tuning\n",
    "    1. Grid Search\n",
    "    2. Bayesean Search\n",
    "\n",
    "\n",
    "    "
   ]
  },
  {
   "attachments": {},
   "cell_type": "markdown",
   "metadata": {},
   "source": [
    "# Dependencies"
   ]
  },
  {
   "cell_type": "code",
   "execution_count": 1,
   "metadata": {},
   "outputs": [],
   "source": [
    "import pandas as pd\n",
    "import numpy as np\n",
    "from matplotlib import pyplot as plt\n",
    "\n",
    "from sklearn import linear_model as lin \n",
    "from sklearn import preprocessing as pre\n",
    "from sklearn import metrics as met\n",
    "from sklearn import model_selection as mod\n",
    "from sklearn import pipeline as pip\n",
    "from sklearn import datasets as dat\n",
    "from sklearn import tree\n",
    "from sklearn import preprocessing as pre\n",
    "from sklearn import ensemble as ens\n",
    "from sklearn import svm\n",
    "from sklearn import decomposition as dec\n",
    "from sklearn import manifold as man\n",
    "from sklearn import impute as imp\n",
    "from sklearn import compose as com\n",
    "\n",
    "from imblearn import pipeline as imbPip # imblearn pipeline\n",
    "from imblearn import under_sampling as und\n",
    "from imblearn import over_sampling as ove\n",
    "\n",
    "import xgboost as xgb\n",
    "\n",
    "import seaborn as sns\n",
    "\n",
    "from pandas_profiling import ProfileReport as p_rep\n",
    "\n",
    "np.set_printoptions(suppress=True) \n",
    "\n",
    "import warnings\n",
    "warnings.filterwarnings(\"ignore\")"
   ]
  },
  {
   "attachments": {},
   "cell_type": "markdown",
   "metadata": {},
   "source": [
    "# Functions"
   ]
  },
  {
   "cell_type": "code",
   "execution_count": 3,
   "metadata": {},
   "outputs": [],
   "source": [
    "def plotLearningCurve(est, X_train, y_train, X_test, y_test, n_iter=10, minY=0,maxY=1):\n",
    "    x_values = [] #number of training samples\n",
    "    y_values_train = []\n",
    "    y_values_test = []\n",
    "\n",
    "    for i in np.linspace(10,len(X_train),n_iter): #increase training sizes by every iter\n",
    "        i=int(i)\n",
    "        #select a subset of training data\n",
    "        X_train_temp = X_train[:i]\n",
    "        y_train_temp = y_train[:i]\n",
    "        #create the model\n",
    "        est.fit(X_train_temp, y_train_temp)\n",
    "        #evaluate train set\n",
    "        y_pred_train=est.predict(X_train_temp)\n",
    "        train_score = met.mean_squared_error(y_train_temp,y_pred_train,squared=False)\n",
    "        #evaluate test set\n",
    "        y_pred_test=est.predict(X_test)\n",
    "        test_score = met.mean_squared_error(y_test,y_pred_test,squared=False)\n",
    "        #populate lists\n",
    "        y_values_train.append(train_score)\n",
    "        y_values_test.append(test_score)\n",
    "        x_values.append(i)\n",
    "    plt.figure(figsize=(10,6))\n",
    "    plt.plot(x_values,y_values_train,label=\"Train\")\n",
    "    plt.plot(x_values,y_values_test, label=\"Test\")\n",
    "    plt.legend()\n",
    "    plt.ylabel(\"RMSE\")\n",
    "    plt.xlabel(\"# of training samples\")\n",
    "    plt.grid(True)\n",
    "    plt.ylim(minY,maxY)\n",
    "    plt.show()"
   ]
  },
  {
   "cell_type": "code",
   "execution_count": 4,
   "metadata": {},
   "outputs": [],
   "source": [
    "def plotDecisionBoundaries(clf, X, y, n_classes=2):\n",
    "  # Parameters\n",
    "  plot_colors = \"rb\"\n",
    "  plot_step = 0.02\n",
    "\n",
    "  X2 = X.values\n",
    "  y_now = y.values\n",
    "\n",
    "\n",
    "  for pairidx, pair in enumerate([[0, 1], [0, 2], [0, 3],\n",
    "                                  [1, 2], [1, 3], [2, 3]]):\n",
    "      # We only take the two corresponding features\n",
    "      X_now = X2[:, pair]\n",
    "      \n",
    "      \n",
    "\n",
    "      # Train\n",
    "      clf.fit(X_now, y_now)\n",
    "\n",
    "      # Plot the decision boundary\n",
    "      plt.subplot(2, 3, pairidx + 1)\n",
    "\n",
    "      x_min, x_max = X_now[:, 0].min() - 1, X_now[:, 0].max() + 1\n",
    "      y_min, y_max = X_now[:, 1].min() - 1, X_now[:, 1].max() + 1\n",
    "      xx, yy = np.meshgrid(np.arange(x_min, x_max, plot_step),\n",
    "                          np.arange(y_min, y_max, plot_step))\n",
    "      plt.tight_layout(h_pad=0.5, w_pad=0.5, pad=2.5)\n",
    "\n",
    "      Z = clf.predict(np.c_[xx.ravel(), yy.ravel()])\n",
    "      Z = Z.reshape(xx.shape)\n",
    "      cs = plt.contourf(xx, yy, Z, cmap=plt.cm.RdYlBu)\n",
    "\n",
    "      \n",
    "\n",
    "      # Plot the training points\n",
    "      for i, color in zip(range(n_classes), plot_colors):\n",
    "          idx = np.where(y_now == i)\n",
    "          \n",
    "          plt.scatter(X_now[idx, 0], X_now[idx, 1], c=color,\n",
    "                      cmap=plt.cm.RdYlBu, edgecolor='black', s=15)\n",
    "\n",
    "  plt.suptitle(\"Decision surface of a decision tree using paired features\")\n",
    "  plt.legend(loc='lower right', borderpad=0, handletextpad=0)\n",
    "  plt.axis(\"tight\")\n",
    "  plt.show()"
   ]
  },
  {
   "cell_type": "code",
   "execution_count": 5,
   "metadata": {},
   "outputs": [],
   "source": [
    "def estimate_roc_curve(X_train, y_train_binary, estimators=[[tree.DecisionTreeClassifier(random_state=42),\n",
    "                lin.SGDClassifier(random_state=42),\n",
    "                ens.RandomForestClassifier(random_state=42)]]):\n",
    "    for est in estimators:\n",
    "        pipe = pip.Pipeline([\n",
    "            (\"scaler\", pre.StandardScaler()),\n",
    "            (\"est\",est)\n",
    "        ])\n",
    "        if hasattr(est,\"predict_proba\"):\n",
    "            myMethod = \"predict_proba\" #returns list of lists\n",
    "        else:\n",
    "            myMethod = \"decision_function\" \n",
    "\n",
    "        y_scores = mod.cross_val_predict(pipe, X_train, y_train_binary,\n",
    "                                        cv=5, method=myMethod)\n",
    "        if myMethod == \"predict_proba\":\n",
    "            y_scores = y_scores[:, 1] #probabilities for true class\n",
    "        fpr, tpr, thresholds = met.roc_curve(y_train_binary,y_scores)\n",
    "        auc_score = met.roc_auc_score(y_train_binary,y_scores)\n",
    "        print(est.__class__.__name__,auc_score)\n",
    "        plt.plot(fpr, tpr, label=est.__class__.__name__)\n",
    "    plt.title(\"ROC Curve\")\n",
    "    plt.xlabel(\"fpr\")\n",
    "    plt.ylabel(\"tpr\")\n",
    "    plt.legend()\n",
    "    plt.show()"
   ]
  },
  {
   "cell_type": "code",
   "execution_count": 6,
   "metadata": {},
   "outputs": [],
   "source": [
    "def precision_recall_curve(est, X_train, y_train_binary):\n",
    "    \n",
    "    pipe = pip.Pipeline([(\"scaler\", pre.StandardScaler())\n",
    "                         ,(\"est\",est)])\n",
    "    \n",
    "    if hasattr(est,\"predict_proba\"):\n",
    "        myMethod = \"predict_proba\" \n",
    "    else:\n",
    "        myMethod = \"decision_function\" \n",
    "    \n",
    "    y_scores = mod.cross_val_predict(pipe,X_train,y_train_binary,cv=3, method=myMethod)\n",
    "    \n",
    "    precision, recall, thresholds = met.precision_recall_curve(y_train_binary, y_scores)\n",
    "    \n",
    "    plt.figure(figsize=(10,6))\n",
    "    plt.plot(thresholds,precision[:-1], label = \"precision\")\n",
    "    plt.plot(thresholds,recall[:-1], label = \"recall\")\n",
    "    plt.legend()\n",
    "    plt.xlabel(\"Thresholds\")\n",
    "    plt.ylabel(\"Precision / Recall\")\n",
    "    plt.show()\n",
    "    \n",
    "    fpr, tpr, thresholds = met.roc_curve(y_train_binary,y_scores)\n",
    "    plt.plot(fpr,tpr)\n",
    "    plt.xlabel(\"fpr\")\n",
    "    plt.ylabel(\"tpr\")\n",
    "    plt.show()\n",
    "    "
   ]
  },
  {
   "attachments": {},
   "cell_type": "markdown",
   "metadata": {},
   "source": [
    "# Main"
   ]
  },
  {
   "attachments": {},
   "cell_type": "markdown",
   "metadata": {},
   "source": [
    "## 1. Reading the Data"
   ]
  },
  {
   "cell_type": "code",
   "execution_count": 9,
   "metadata": {},
   "outputs": [],
   "source": [
    "Data_Path = \"Data/train.xlsx\" #replace with data path\n",
    "Target_Col = \"is claim\""
   ]
  },
  {
   "cell_type": "code",
   "execution_count": 7,
   "metadata": {},
   "outputs": [
    {
     "data": {
      "text/html": [
       "<div>\n",
       "<style scoped>\n",
       "    .dataframe tbody tr th:only-of-type {\n",
       "        vertical-align: middle;\n",
       "    }\n",
       "\n",
       "    .dataframe tbody tr th {\n",
       "        vertical-align: top;\n",
       "    }\n",
       "\n",
       "    .dataframe thead th {\n",
       "        text-align: right;\n",
       "    }\n",
       "</style>\n",
       "<table border=\"1\" class=\"dataframe\">\n",
       "  <thead>\n",
       "    <tr style=\"text-align: right;\">\n",
       "      <th></th>\n",
       "      <th>ID</th>\n",
       "      <th>ncap rating</th>\n",
       "      <th>is power door locks</th>\n",
       "      <th>policyholder age</th>\n",
       "      <th>is parking camera</th>\n",
       "      <th>rear brakes type</th>\n",
       "      <th>is adjustable steering</th>\n",
       "      <th>is tpms</th>\n",
       "      <th>is driver seat height adjustable</th>\n",
       "      <th>segment</th>\n",
       "      <th>...</th>\n",
       "      <th>is parking sensors</th>\n",
       "      <th>power</th>\n",
       "      <th>gross weight</th>\n",
       "      <th>is day night rear view mirror</th>\n",
       "      <th>model</th>\n",
       "      <th>gear box</th>\n",
       "      <th>airbags</th>\n",
       "      <th>turning radius</th>\n",
       "      <th>area danger level</th>\n",
       "      <th>is claim</th>\n",
       "    </tr>\n",
       "  </thead>\n",
       "  <tbody>\n",
       "    <tr>\n",
       "      <th>0</th>\n",
       "      <td>0</td>\n",
       "      <td>2.0</td>\n",
       "      <td>Yes</td>\n",
       "      <td>0.394496</td>\n",
       "      <td>No</td>\n",
       "      <td>Drum</td>\n",
       "      <td>No</td>\n",
       "      <td>No</td>\n",
       "      <td>No</td>\n",
       "      <td>B1</td>\n",
       "      <td>...</td>\n",
       "      <td>Yes</td>\n",
       "      <td>55.92bhp@5300rpm</td>\n",
       "      <td>1340.0</td>\n",
       "      <td>No</td>\n",
       "      <td>Model_8</td>\n",
       "      <td>5.0</td>\n",
       "      <td>2.0</td>\n",
       "      <td>4.7</td>\n",
       "      <td>4</td>\n",
       "      <td>0</td>\n",
       "    </tr>\n",
       "    <tr>\n",
       "      <th>1</th>\n",
       "      <td>1</td>\n",
       "      <td>2.0</td>\n",
       "      <td>Yes</td>\n",
       "      <td>0.417364</td>\n",
       "      <td>No</td>\n",
       "      <td>Drum</td>\n",
       "      <td>No</td>\n",
       "      <td>No</td>\n",
       "      <td>No</td>\n",
       "      <td>B1</td>\n",
       "      <td>...</td>\n",
       "      <td>Yes</td>\n",
       "      <td>55.92bhp@5300rpm</td>\n",
       "      <td>1340.0</td>\n",
       "      <td>No</td>\n",
       "      <td>Model_8</td>\n",
       "      <td>5.0</td>\n",
       "      <td>2.0</td>\n",
       "      <td>4.7</td>\n",
       "      <td>1</td>\n",
       "      <td>1</td>\n",
       "    </tr>\n",
       "    <tr>\n",
       "      <th>2</th>\n",
       "      <td>2</td>\n",
       "      <td>2.0</td>\n",
       "      <td>Yes</td>\n",
       "      <td>0.438922</td>\n",
       "      <td>No</td>\n",
       "      <td>Drum</td>\n",
       "      <td>Yes</td>\n",
       "      <td>No</td>\n",
       "      <td>Yes</td>\n",
       "      <td>B2</td>\n",
       "      <td>...</td>\n",
       "      <td>Yes</td>\n",
       "      <td>88.50bhp@6000rpm</td>\n",
       "      <td>1335.0</td>\n",
       "      <td>Yes</td>\n",
       "      <td>Model_6</td>\n",
       "      <td>5.0</td>\n",
       "      <td>2.0</td>\n",
       "      <td>4.8</td>\n",
       "      <td>5</td>\n",
       "      <td>0</td>\n",
       "    </tr>\n",
       "    <tr>\n",
       "      <th>3</th>\n",
       "      <td>3</td>\n",
       "      <td>0.0</td>\n",
       "      <td>No</td>\n",
       "      <td>0.656276</td>\n",
       "      <td>No</td>\n",
       "      <td>Drum</td>\n",
       "      <td>No</td>\n",
       "      <td>No</td>\n",
       "      <td>No</td>\n",
       "      <td>A</td>\n",
       "      <td>...</td>\n",
       "      <td>Yes</td>\n",
       "      <td>40.36bhp@6000rpm</td>\n",
       "      <td>1185.0</td>\n",
       "      <td>No</td>\n",
       "      <td>Model_1</td>\n",
       "      <td>5.0</td>\n",
       "      <td>2.0</td>\n",
       "      <td>4.6</td>\n",
       "      <td>2</td>\n",
       "      <td>0</td>\n",
       "    </tr>\n",
       "    <tr>\n",
       "      <th>4</th>\n",
       "      <td>4</td>\n",
       "      <td>3.0</td>\n",
       "      <td>Yes</td>\n",
       "      <td>0.462328</td>\n",
       "      <td>Yes</td>\n",
       "      <td>Disc</td>\n",
       "      <td>Yes</td>\n",
       "      <td>Yes</td>\n",
       "      <td>Yes</td>\n",
       "      <td>C2</td>\n",
       "      <td>...</td>\n",
       "      <td>Yes</td>\n",
       "      <td>113.45bhp@4000rpm</td>\n",
       "      <td>1720.0</td>\n",
       "      <td>No</td>\n",
       "      <td>Model_4</td>\n",
       "      <td>6.0</td>\n",
       "      <td>6.0</td>\n",
       "      <td>5.2</td>\n",
       "      <td>3</td>\n",
       "      <td>0</td>\n",
       "    </tr>\n",
       "  </tbody>\n",
       "</table>\n",
       "<p>5 rows × 45 columns</p>\n",
       "</div>"
      ],
      "text/plain": [
       "   ID  ncap rating is power door locks  policyholder age is parking camera  \\\n",
       "0   0          2.0                 Yes          0.394496                No   \n",
       "1   1          2.0                 Yes          0.417364                No   \n",
       "2   2          2.0                 Yes          0.438922                No   \n",
       "3   3          0.0                  No          0.656276                No   \n",
       "4   4          3.0                 Yes          0.462328               Yes   \n",
       "\n",
       "  rear brakes type is adjustable steering is tpms  \\\n",
       "0             Drum                     No      No   \n",
       "1             Drum                     No      No   \n",
       "2             Drum                    Yes      No   \n",
       "3             Drum                     No      No   \n",
       "4             Disc                    Yes     Yes   \n",
       "\n",
       "  is driver seat height adjustable segment  ...  is parking sensors  \\\n",
       "0                               No      B1  ...                 Yes   \n",
       "1                               No      B1  ...                 Yes   \n",
       "2                              Yes      B2  ...                 Yes   \n",
       "3                               No       A  ...                 Yes   \n",
       "4                              Yes      C2  ...                 Yes   \n",
       "\n",
       "               power gross weight  is day night rear view mirror    model  \\\n",
       "0   55.92bhp@5300rpm       1340.0                             No  Model_8   \n",
       "1   55.92bhp@5300rpm       1340.0                             No  Model_8   \n",
       "2   88.50bhp@6000rpm       1335.0                            Yes  Model_6   \n",
       "3   40.36bhp@6000rpm       1185.0                             No  Model_1   \n",
       "4  113.45bhp@4000rpm       1720.0                             No  Model_4   \n",
       "\n",
       "  gear box airbags turning radius  area danger level is claim  \n",
       "0      5.0     2.0            4.7                  4        0  \n",
       "1      5.0     2.0            4.7                  1        1  \n",
       "2      5.0     2.0            4.8                  5        0  \n",
       "3      5.0     2.0            4.6                  2        0  \n",
       "4      6.0     6.0            5.2                  3        0  \n",
       "\n",
       "[5 rows x 45 columns]"
      ]
     },
     "execution_count": 7,
     "metadata": {},
     "output_type": "execute_result"
    }
   ],
   "source": [
    "df = pd.read_excel(Data_Path)\n",
    "df.head()"
   ]
  },
  {
   "cell_type": "code",
   "execution_count": 10,
   "metadata": {},
   "outputs": [],
   "source": [
    "num_columns = list(df.drop(Target_Col,axis=1).select_dtypes(exclude=\"object\").columns)\n",
    "cat_columns = list(df.select_dtypes(include=\"object\").columns)"
   ]
  },
  {
   "attachments": {},
   "cell_type": "markdown",
   "metadata": {},
   "source": [
    "## 2. Exploratory Data Analysis "
   ]
  },
  {
   "attachments": {},
   "cell_type": "markdown",
   "metadata": {},
   "source": [
    "### 1. Target Variable Distribution"
   ]
  },
  {
   "cell_type": "code",
   "execution_count": 11,
   "metadata": {},
   "outputs": [
    {
     "data": {
      "text/plain": [
       "0    0.936043\n",
       "1    0.063957\n",
       "Name: is claim, dtype: float64"
      ]
     },
     "execution_count": 11,
     "metadata": {},
     "output_type": "execute_result"
    }
   ],
   "source": [
    "df[Target_Col].value_counts(normalize=True, dropna=False)"
   ]
  },
  {
   "attachments": {},
   "cell_type": "markdown",
   "metadata": {},
   "source": [
    "## 2. Distribution of Features"
   ]
  },
  {
   "cell_type": "code",
   "execution_count": 12,
   "metadata": {},
   "outputs": [
    {
     "data": {
      "text/plain": [
       "array([[<AxesSubplot:title={'center':'ID'}>,\n",
       "        <AxesSubplot:title={'center':'ncap rating'}>,\n",
       "        <AxesSubplot:title={'center':'policyholder age'}>,\n",
       "        <AxesSubplot:title={'center':'car age'}>],\n",
       "       [<AxesSubplot:title={'center':'height'}>,\n",
       "        <AxesSubplot:title={'center':'engine volume'}>,\n",
       "        <AxesSubplot:title={'center':'manufacturer'}>,\n",
       "        <AxesSubplot:title={'center':'cylinder'}>],\n",
       "       [<AxesSubplot:title={'center':'population'}>,\n",
       "        <AxesSubplot:title={'center':'time period'}>,\n",
       "        <AxesSubplot:title={'center':'length'}>,\n",
       "        <AxesSubplot:title={'center':'width'}>],\n",
       "       [<AxesSubplot:title={'center':'gross weight'}>,\n",
       "        <AxesSubplot:title={'center':'gear box'}>,\n",
       "        <AxesSubplot:title={'center':'airbags'}>,\n",
       "        <AxesSubplot:title={'center':'turning radius'}>],\n",
       "       [<AxesSubplot:title={'center':'area danger level'}>,\n",
       "        <AxesSubplot:title={'center':'is claim'}>, <AxesSubplot:>,\n",
       "        <AxesSubplot:>]], dtype=object)"
      ]
     },
     "execution_count": 12,
     "metadata": {},
     "output_type": "execute_result"
    },
    {
     "data": {
      "text/plain": [
       "<Figure size 1500x1100 with 0 Axes>"
      ]
     },
     "metadata": {},
     "output_type": "display_data"
    },
    {
     "data": {
      "image/png": "[encoded data removed]",
      "text/plain": [
       "<Figure size 640x480 with 20 Axes>"
      ]
     },
     "metadata": {},
     "output_type": "display_data"
    }
   ],
   "source": [
    "plt.figure(figsize=(15,11))\n",
    "df.hist()"
   ]
  },
  {
   "cell_type": "code",
   "execution_count": 13,
   "metadata": {},
   "outputs": [],
   "source": [
    "df_profile = p_rep(df, title=\"Profiling Report\")"
   ]
  },
  {
   "cell_type": "code",
   "execution_count": 14,
   "metadata": {},
   "outputs": [
    {
     "data": {
      "application/vnd.jupyter.widget-view+json": {
       "model_id": "6b9fb5f2637e4672ac473572f190c46b",
       "version_major": 2,
       "version_minor": 0
      },
      "text/plain": [
       "Summarize dataset:   0%|          | 0/5 [00:00<?, ?it/s]"
      ]
     },
     "metadata": {},
     "output_type": "display_data"
    },
    {
     "data": {
      "application/vnd.jupyter.widget-view+json": {
       "model_id": "cf324cc3ac934eebb5061073d594eaf1",
       "version_major": 2,
       "version_minor": 0
      },
      "text/plain": [
       "Generate report structure:   0%|          | 0/1 [00:00<?, ?it/s]"
      ]
     },
     "metadata": {},
     "output_type": "display_data"
    },
    {
     "data": {
      "application/vnd.jupyter.widget-view+json": {
       "model_id": "7b2022ad9a5c40079a79b663f953f3ce",
       "version_major": 2,
       "version_minor": 0
      },
      "text/plain": [
       "Render HTML:   0%|          | 0/1 [00:00<?, ?it/s]"
      ]
     },
     "metadata": {},
     "output_type": "display_data"
    },
    {
     "data": {
      "application/vnd.jupyter.widget-view+json": {
       "model_id": "16cfe548ca77434e86b5d03c01d29ecd",
       "version_major": 2,
       "version_minor": 0
      },
      "text/plain": [
       "Export report to file:   0%|          | 0/1 [00:00<?, ?it/s]"
      ]
     },
     "metadata": {},
     "output_type": "display_data"
    }
   ],
   "source": [
    "df_profile.to_file(\"data_report.html\")"
   ]
  },
  {
   "cell_type": "code",
   "execution_count": null,
   "metadata": {},
   "outputs": [],
   "source": []
  }
 ],
 "metadata": {
  "kernelspec": {
   "display_name": "Python 3 (ipykernel)",
   "language": "python",
   "name": "python3"
  },
  "language_info": {
   "codemirror_mode": {
    "name": "ipython",
    "version": 3
   },
   "file_extension": ".py",
   "mimetype": "text/x-python",
   "name": "python",
   "nbconvert_exporter": "python",
   "pygments_lexer": "ipython3",
   "version": "3.10.6"
  },
  "orig_nbformat": 4,
  "vscode": {
   "interpreter": {
    "hash": "916dbcbb3f70747c44a77c7bcd40155683ae19c65e1c03b4aa3499c5328201f1"
   }
  }
 },
 "nbformat": 4,
 "nbformat_minor": 2
}
